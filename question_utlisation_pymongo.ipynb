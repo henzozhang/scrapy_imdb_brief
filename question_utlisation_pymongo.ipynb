{
 "cells": [
  {
   "cell_type": "code",
   "execution_count": 2,
   "metadata": {},
   "outputs": [],
   "source": [
    "import pymongo\n",
    "from pymongo import MongoClient\n",
    "client = MongoClient('localhost', 27017)\n",
    "db = client[\"detail_film\"]\n",
    "collection =db[\"imbd_tb\"]"
   ]
  },
  {
   "cell_type": "code",
   "execution_count": 6,
   "metadata": {},
   "outputs": [],
   "source": [
    "cursor = collection.find({},{'Titre original':1,'Duree':1,'_id':0}).sort(\"Duree\", -1).limit(1)"
   ]
  },
  {
   "cell_type": "code",
   "execution_count": 7,
   "metadata": {},
   "outputs": [
    {
     "name": "stdout",
     "output_type": "stream",
     "text": [
      "{'Titre original': 'Gone with the Wind', 'Duree': 238}\n"
     ]
    }
   ],
   "source": [
    "for i in cursor:\n",
    "    print(i)"
   ]
  },
  {
   "cell_type": "code",
   "execution_count": 8,
   "metadata": {},
   "outputs": [
    {
     "name": "stdout",
     "output_type": "stream",
     "text": [
      "{'_id': ObjectId('639b28f15fec497b11d22ca4'), 'Titre original': 'Gone with the Wind', 'Score sur 10': '8.2', 'Genre': 'Drama', 'Date de sorti en USA': '1939', 'Descriptions': 'The manipulative daughter of a Georgia plantation owner conducts a turbulent romance with a roguish profiteer during the American Civil War and Reconstruction periods.', 'Duree': 238, 'Acteurs': ['Clark Gable', 'Vivien Leigh', 'Thomas Mitchell', \"Barbara O'Neil\", 'Evelyn Keyes', 'Ann Rutherford', 'George Reeves', 'Fred Crane', 'Hattie McDaniel', 'Oscar Polk', 'Butterfly McQueen', 'Victor Jory', 'Everett Brown', 'Howard Hickman', 'Alicia Rhett', 'Leslie Howard', 'Olivia de Havilland', 'Rand Brooks'], 'Public': '1939', 'Pays d’origine': 'United States'}\n"
     ]
    }
   ],
   "source": [
    "mydoc = collection.find().sort(\"Duree\", -1).limit(1)\n",
    "for i in mydoc:\n",
    "    print(i)"
   ]
  },
  {
   "attachments": {},
   "cell_type": "markdown",
   "metadata": {},
   "source": [
    "Quel est le film le plus long ?\n"
   ]
  },
  {
   "attachments": {},
   "cell_type": "markdown",
   "metadata": {},
   "source": [
    "Quels sont les 5 films les mieux notés ?"
   ]
  },
  {
   "cell_type": "code",
   "execution_count": 9,
   "metadata": {},
   "outputs": [
    {
     "name": "stdout",
     "output_type": "stream",
     "text": [
      "{'Titre original': 'The Shawshank Redemption', 'Score sur 10': '9.3'}\n",
      "{'Titre original': 'The Godfather', 'Score sur 10': '9.2'}\n",
      "{'Titre original': \"Schindler's List\", 'Score sur 10': '9.0'}\n",
      "{'Titre original': 'The Godfather Part II', 'Score sur 10': '9.0'}\n",
      "{'Titre original': 'The Lord of the Rings: The Return of the King', 'Score sur 10': '9.0'}\n"
     ]
    }
   ],
   "source": [
    "cursor = collection.find({},{'Titre original':1,'Score sur 10':1,'_id':0}).sort(\"Score sur 10\", -1).limit(5)\n",
    "for i in cursor:\n",
    "    print(i)"
   ]
  },
  {
   "attachments": {},
   "cell_type": "markdown",
   "metadata": {},
   "source": [
    "Dans combien de films a joué Morgan Freeman ? Tom Cruise ?"
   ]
  },
  {
   "cell_type": "code",
   "execution_count": 10,
   "metadata": {},
   "outputs": [
    {
     "data": {
      "text/plain": [
       "1"
      ]
     },
     "execution_count": 10,
     "metadata": {},
     "output_type": "execute_result"
    }
   ],
   "source": [
    "count = collection.count_documents({\"Acteurs\": {\"$in\": [\"Tom Cruise\"]}})\n"
   ]
  },
  {
   "cell_type": "code",
   "execution_count": 11,
   "metadata": {},
   "outputs": [
    {
     "data": {
      "text/plain": [
       "7"
      ]
     },
     "execution_count": 11,
     "metadata": {},
     "output_type": "execute_result"
    }
   ],
   "source": [
    "count = collection.count_documents({\"Acteurs\": {\"$in\": [\"Morgan Freeman\"]}})\n",
    "count"
   ]
  },
  {
   "cell_type": "markdown",
   "metadata": {},
   "source": [
    "Quels sont les 3 meilleurs films d’horreur ? Dramatique ? Comique ?"
   ]
  },
  {
   "cell_type": "code",
   "execution_count": 21,
   "metadata": {},
   "outputs": [
    {
     "name": "stdout",
     "output_type": "stream",
     "text": [
      "{'Titre original': 'The Shawshank Redemption', 'Score sur 10': '9.3'}\n",
      "{'Titre original': 'Fight Club', 'Score sur 10': '8.8'}\n",
      "{'Titre original': 'Forrest Gump', 'Score sur 10': '8.8'}\n"
     ]
    }
   ],
   "source": [
    "pipeline = [\n",
    "    {\"$match\":{\"Genre\":\"Drama\"}},\n",
    "    {'$sort':{\"Score sur 10\": -1}},\n",
    "    {'$limit': 3},\n",
    "    {'$project':{'Titre original':1,'Score sur 10':1,'_id':0}}\n",
    "]\n",
    "result = collection.aggregate(pipeline)\n",
    "for i in result:\n",
    "    print(i)"
   ]
  },
  {
   "cell_type": "code",
   "execution_count": 22,
   "metadata": {},
   "outputs": [
    {
     "name": "stdout",
     "output_type": "stream",
     "text": [
      "{'Titre original': 'Life Is Beautiful', 'Score sur 10': '8.6'}\n",
      "{'Titre original': 'City Lights', 'Score sur 10': '8.5'}\n",
      "{'Titre original': 'Modern Times', 'Score sur 10': '8.5'}\n"
     ]
    }
   ],
   "source": [
    "pipeline = [\n",
    "    {\"$match\":{\"Genre\":\"Comedy\"}},\n",
    "    {'$sort':{\"Score sur 10\": -1}},\n",
    "    {'$limit': 3},\n",
    "    {'$project':{'Titre original':1,'Score sur 10':1,'_id':0}}\n",
    "]\n",
    "result = collection.aggregate(pipeline)\n",
    "for i in result:\n",
    "    print(i)"
   ]
  },
  {
   "cell_type": "code",
   "execution_count": 23,
   "metadata": {},
   "outputs": [
    {
     "name": "stdout",
     "output_type": "stream",
     "text": [
      "{'Titre original': 'Psycho', 'Score sur 10': '8.5'}\n",
      "{'Titre original': 'Alien', 'Score sur 10': '8.5'}\n",
      "{'Titre original': 'The Thing', 'Score sur 10': '8.2'}\n"
     ]
    }
   ],
   "source": [
    "pipeline = [\n",
    "    {\"$match\":{\"Genre\":\"Horror\"}},\n",
    "    {'$sort':{\"Score sur 10\": -1}},\n",
    "    {'$limit': 3},\n",
    "    {'$project':{'Titre original':1,'Score sur 10':1,'_id':0}}\n",
    "]\n",
    "result = collection.aggregate(pipeline)\n",
    "for i in result:\n",
    "    print(i)"
   ]
  },
  {
   "attachments": {},
   "cell_type": "markdown",
   "metadata": {},
   "source": [
    "Parmi les 100 films les mieux notés, quel pourcentage sont américains ? Français ?"
   ]
  },
  {
   "cell_type": "code",
   "execution_count": 87,
   "metadata": {},
   "outputs": [],
   "source": [
    "pipeline = [\n",
    "    {'$sort':{\"Score sur 10\": -1}},\n",
    "    {'$limit': 100},\n",
    "    {'$match': {'Pays d’origine': {'$in': ['France', 'United States']}}},\n",
    "    {'$group': {\n",
    "        '_id': '$Pays d’origine',\n",
    "        'num_movies': {'$sum': 1}}}\n",
    "    \n",
    "]\n",
    "results = collection.aggregate(pipeline)"
   ]
  },
  {
   "cell_type": "code",
   "execution_count": 88,
   "metadata": {},
   "outputs": [
    {
     "name": "stdout",
     "output_type": "stream",
     "text": [
      "Les film d'origine United States representent 62 % des 100 meilleur films.\n",
      "Les film d'origine France representent 4 % des 100 meilleur films.\n"
     ]
    }
   ],
   "source": [
    "for result in results:\n",
    "    print(f\"Les film d'origine {result['_id']} representent {result['num_movies']} % des 100 meilleur films.\")"
   ]
  },
  {
   "cell_type": "markdown",
   "metadata": {},
   "source": [
    "Quel est la durée moyenne d’un film en fonction du genre ?"
   ]
  },
  {
   "cell_type": "code",
   "execution_count": 63,
   "metadata": {},
   "outputs": [],
   "source": [
    "pipeline = [\n",
    "    \n",
    "    {'$group': {\n",
    "        '_id': '$Genre',\n",
    "        'average_duration': {'$avg': '$Duree'}\n",
    "    }}\n",
    "]"
   ]
  },
  {
   "cell_type": "code",
   "execution_count": 64,
   "metadata": {},
   "outputs": [],
   "source": [
    "results = collection.aggregate(pipeline)\n"
   ]
  },
  {
   "cell_type": "code",
   "execution_count": 65,
   "metadata": {},
   "outputs": [
    {
     "name": "stdout",
     "output_type": "stream",
     "text": [
      "Le genre Comedy a une durée moyenne de 111.43478260869566 minutes.\n",
      "Le genre Action a une durée moyenne de 139.41860465116278 minutes.\n",
      "Le genre Biography a une durée moyenne de 142.77272727272728 minutes.\n",
      "Le genre Mystery a une durée moyenne de 122.75 minutes.\n",
      "Le genre Drama a une durée moyenne de 129.4848484848485 minutes.\n",
      "Le genre Western a une durée moyenne de 148.5 minutes.\n",
      "Le genre Film-Noir a une durée moyenne de 93.0 minutes.\n",
      "Le genre Adventure a une durée moyenne de 142.38095238095238 minutes.\n",
      "Le genre Crime a une durée moyenne de 132.6 minutes.\n",
      "Le genre Animation a une durée moyenne de 100.95652173913044 minutes.\n",
      "Le genre Horror a une durée moyenne de 114.25 minutes.\n"
     ]
    }
   ],
   "source": [
    "for result in results:\n",
    "    print(f\"Le genre {result['_id']} a une durée moyenne de {result['average_duration']} minutes.\")"
   ]
  }
 ],
 "metadata": {
  "kernelspec": {
   "display_name": "scraping_env",
   "language": "python",
   "name": "python3"
  },
  "language_info": {
   "codemirror_mode": {
    "name": "ipython",
    "version": 3
   },
   "file_extension": ".py",
   "mimetype": "text/x-python",
   "name": "python",
   "nbconvert_exporter": "python",
   "pygments_lexer": "ipython3",
   "version": "3.10.8"
  },
  "orig_nbformat": 4,
  "vscode": {
   "interpreter": {
    "hash": "8ecc6f5ab56c0f029fd8919e6d669ea4550bc87f13ded3837349ed323608dc1e"
   }
  }
 },
 "nbformat": 4,
 "nbformat_minor": 2
}
