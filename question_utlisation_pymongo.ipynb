{
 "cells": [
  {
   "cell_type": "code",
   "execution_count": 73,
   "metadata": {},
   "outputs": [],
   "source": [
    "import pymongo\n",
    "from pymongo import MongoClient\n",
    "client = MongoClient('localhost', 27017)\n",
    "db = client[\"detail_film\"]\n",
    "collection =db[\"imbd_tb\"]"
   ]
  },
  {
   "cell_type": "code",
   "execution_count": 60,
   "metadata": {},
   "outputs": [],
   "source": [
    "# pipeline = [\n",
    "#     {\"$group\": {\"_id\": '$name'}},\n",
    "#     {\"$sort\": {\"duree\": -1}}\n",
    "# ]"
   ]
  },
  {
   "cell_type": "code",
   "execution_count": 61,
   "metadata": {},
   "outputs": [],
   "source": [
    "# result = collection.aggregate(pipeline)"
   ]
  },
  {
   "cell_type": "code",
   "execution_count": 62,
   "metadata": {},
   "outputs": [
    {
     "name": "stdout",
     "output_type": "stream",
     "text": [
      "{'_id': None}\n"
     ]
    }
   ],
   "source": [
    "# for i in result:\n",
    "#     print (i)"
   ]
  },
  {
   "cell_type": "code",
   "execution_count": 96,
   "metadata": {},
   "outputs": [],
   "source": [
    "cursor = collection.find({},{'Titre original':1,'Duree':1,'_id':0}).sort(\"Duree\", -1).limit(1)"
   ]
  },
  {
   "cell_type": "code",
   "execution_count": 97,
   "metadata": {},
   "outputs": [
    {
     "name": "stdout",
     "output_type": "stream",
     "text": [
      "{'Titre original': 'Gone with the Wind', 'Duree': 238}\n"
     ]
    }
   ],
   "source": [
    "for i in cursor:\n",
    "    print(i)"
   ]
  },
  {
   "cell_type": "code",
   "execution_count": 87,
   "metadata": {},
   "outputs": [
    {
     "name": "stdout",
     "output_type": "stream",
     "text": [
      "{'_id': ObjectId('639b28f15fec497b11d22ca4'), 'Titre original': 'Gone with the Wind', 'Score sur 10': '8.2', 'Genre': 'Drama', 'Date de sorti en USA': '1939', 'Descriptions': 'The manipulative daughter of a Georgia plantation owner conducts a turbulent romance with a roguish profiteer during the American Civil War and Reconstruction periods.', 'Duree': 238, 'Acteurs': ['Clark Gable', 'Vivien Leigh', 'Thomas Mitchell', \"Barbara O'Neil\", 'Evelyn Keyes', 'Ann Rutherford', 'George Reeves', 'Fred Crane', 'Hattie McDaniel', 'Oscar Polk', 'Butterfly McQueen', 'Victor Jory', 'Everett Brown', 'Howard Hickman', 'Alicia Rhett', 'Leslie Howard', 'Olivia de Havilland', 'Rand Brooks'], 'Public': '1939', 'Pays d’origine': 'United States'}\n"
     ]
    }
   ],
   "source": [
    "mydoc = collection.find().sort(\"Duree\", -1).limit(1)\n",
    "for i in mydoc:\n",
    "    print(i)"
   ]
  },
  {
   "attachments": {},
   "cell_type": "markdown",
   "metadata": {},
   "source": [
    "Quel est le film le plus long ?\n"
   ]
  },
  {
   "attachments": {},
   "cell_type": "markdown",
   "metadata": {},
   "source": [
    "Quels sont les 5 films les mieux notés ?"
   ]
  },
  {
   "cell_type": "code",
   "execution_count": 99,
   "metadata": {},
   "outputs": [
    {
     "name": "stdout",
     "output_type": "stream",
     "text": [
      "{'Titre original': 'The Shawshank Redemption', 'Score sur 10': '9.3'}\n",
      "{'Titre original': 'The Godfather', 'Score sur 10': '9.2'}\n",
      "{'Titre original': \"Schindler's List\", 'Score sur 10': '9.0'}\n",
      "{'Titre original': 'The Godfather Part II', 'Score sur 10': '9.0'}\n",
      "{'Titre original': 'The Lord of the Rings: The Return of the King', 'Score sur 10': '9.0'}\n"
     ]
    }
   ],
   "source": [
    "cursor = collection.find({},{'Titre original':1,'Score sur 10':1,'_id':0}).sort(\"Score sur 10\", -1).limit(5)\n",
    "for i in cursor:\n",
    "    print(i)"
   ]
  },
  {
   "attachments": {},
   "cell_type": "markdown",
   "metadata": {},
   "source": [
    "Dans combien de films a joué Morgan Freeman ? Tom Cruise ?"
   ]
  },
  {
   "cell_type": "code",
   "execution_count": 101,
   "metadata": {},
   "outputs": [
    {
     "data": {
      "text/plain": [
       "1"
      ]
     },
     "execution_count": 101,
     "metadata": {},
     "output_type": "execute_result"
    }
   ],
   "source": [
    "count = collection.count_documents({\"Acteurs\": {\"$in\": [\"Tom Cruise\"]}})\n",
    "count"
   ]
  },
  {
   "cell_type": "code",
   "execution_count": 102,
   "metadata": {},
   "outputs": [
    {
     "data": {
      "text/plain": [
       "7"
      ]
     },
     "execution_count": 102,
     "metadata": {},
     "output_type": "execute_result"
    }
   ],
   "source": [
    "count = collection.count_documents({\"Acteurs\": {\"$in\": [\"Morgan Freeman\"]}})\n",
    "count"
   ]
  },
  {
   "cell_type": "markdown",
   "metadata": {},
   "source": [
    "Quels sont les 3 meilleurs films d’horreur ? Dramatique ? Comique ?"
   ]
  },
  {
   "cell_type": "code",
   "execution_count": null,
   "metadata": {},
   "outputs": [],
   "source": []
  },
  {
   "attachments": {},
   "cell_type": "markdown",
   "metadata": {},
   "source": [
    "Parmi les 100 films les mieux notés, quel pourcentage sont américains ? Français ?"
   ]
  },
  {
   "cell_type": "code",
   "execution_count": null,
   "metadata": {},
   "outputs": [],
   "source": []
  },
  {
   "cell_type": "markdown",
   "metadata": {},
   "source": [
    "Quel est la durée moyenne d’un film en fonction du genre ?"
   ]
  },
  {
   "cell_type": "code",
   "execution_count": null,
   "metadata": {},
   "outputs": [],
   "source": []
  }
 ],
 "metadata": {
  "kernelspec": {
   "display_name": "scraping_env",
   "language": "python",
   "name": "python3"
  },
  "language_info": {
   "codemirror_mode": {
    "name": "ipython",
    "version": 3
   },
   "file_extension": ".py",
   "mimetype": "text/x-python",
   "name": "python",
   "nbconvert_exporter": "python",
   "pygments_lexer": "ipython3",
   "version": "3.10.8"
  },
  "orig_nbformat": 4,
  "vscode": {
   "interpreter": {
    "hash": "8ecc6f5ab56c0f029fd8919e6d669ea4550bc87f13ded3837349ed323608dc1e"
   }
  }
 },
 "nbformat": 4,
 "nbformat_minor": 2
}
